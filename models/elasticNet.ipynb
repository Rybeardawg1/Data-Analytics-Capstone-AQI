{
 "cells": [
  {
   "cell_type": "code",
   "execution_count": 6,
   "metadata": {},
   "outputs": [
    {
     "name": "stderr",
     "output_type": "stream",
     "text": [
      "/var/folders/6m/1wyk0cv146d91z1nsb6cxh6w0000gn/T/ipykernel_56845/3886418589.py:22: DtypeWarning: Columns (39) have mixed types. Specify dtype option on import or set low_memory=False.\n",
      "  df = pd.read_csv(f'../csv/final_merged_data/merged_data_{city}.csv')\n"
     ]
    },
    {
     "name": "stdout",
     "output_type": "stream",
     "text": [
      "City: Bakersfield\n",
      "Mean Squared Error (MSE): 121.4790890229168\n",
      "Root Mean Squared Error (RMSE): 11.021755260525286\n",
      "R^2 Score: 0.19193256842767636\n"
     ]
    },
    {
     "name": "stderr",
     "output_type": "stream",
     "text": [
      "/var/folders/6m/1wyk0cv146d91z1nsb6cxh6w0000gn/T/ipykernel_56845/3886418589.py:22: DtypeWarning: Columns (39) have mixed types. Specify dtype option on import or set low_memory=False.\n",
      "  df = pd.read_csv(f'../csv/final_merged_data/merged_data_{city}.csv')\n"
     ]
    },
    {
     "name": "stdout",
     "output_type": "stream",
     "text": [
      "City: Los_Angeles\n",
      "Mean Squared Error (MSE): 22.2496544449254\n",
      "Root Mean Squared Error (RMSE): 4.716953937121435\n",
      "R^2 Score: 0.1100103378893248\n"
     ]
    },
    {
     "name": "stderr",
     "output_type": "stream",
     "text": [
      "/var/folders/6m/1wyk0cv146d91z1nsb6cxh6w0000gn/T/ipykernel_56845/3886418589.py:22: DtypeWarning: Columns (39) have mixed types. Specify dtype option on import or set low_memory=False.\n",
      "  df = pd.read_csv(f'../csv/final_merged_data/merged_data_{city}.csv')\n"
     ]
    },
    {
     "name": "stdout",
     "output_type": "stream",
     "text": [
      "City: New_York\n",
      "Mean Squared Error (MSE): 279.6010888008414\n",
      "Root Mean Squared Error (RMSE): 16.721276530242584\n",
      "R^2 Score: 0.32606467568603614\n"
     ]
    },
    {
     "name": "stderr",
     "output_type": "stream",
     "text": [
      "/var/folders/6m/1wyk0cv146d91z1nsb6cxh6w0000gn/T/ipykernel_56845/3886418589.py:22: DtypeWarning: Columns (39) have mixed types. Specify dtype option on import or set low_memory=False.\n",
      "  df = pd.read_csv(f'../csv/final_merged_data/merged_data_{city}.csv')\n"
     ]
    },
    {
     "name": "stdout",
     "output_type": "stream",
     "text": [
      "City: Phoenix\n",
      "Mean Squared Error (MSE): 8.827580212998674\n",
      "Root Mean Squared Error (RMSE): 2.9711244021411614\n",
      "R^2 Score: 0.19577507672826278\n"
     ]
    },
    {
     "name": "stderr",
     "output_type": "stream",
     "text": [
      "/var/folders/6m/1wyk0cv146d91z1nsb6cxh6w0000gn/T/ipykernel_56845/3886418589.py:22: DtypeWarning: Columns (39) have mixed types. Specify dtype option on import or set low_memory=False.\n",
      "  df = pd.read_csv(f'../csv/final_merged_data/merged_data_{city}.csv')\n"
     ]
    },
    {
     "name": "stdout",
     "output_type": "stream",
     "text": [
      "City: Reno\n",
      "Mean Squared Error (MSE): 0.605740757111703\n",
      "Root Mean Squared Error (RMSE): 0.7782934903439082\n",
      "R^2 Score: 0.06515307279584526\n",
      "City: Visalia\n",
      "Mean Squared Error (MSE): 24.744701278700887\n",
      "Root Mean Squared Error (RMSE): 4.974404615499315\n",
      "R^2 Score: 0.05432106929835623\n"
     ]
    },
    {
     "name": "stderr",
     "output_type": "stream",
     "text": [
      "/var/folders/6m/1wyk0cv146d91z1nsb6cxh6w0000gn/T/ipykernel_56845/3886418589.py:22: DtypeWarning: Columns (39) have mixed types. Specify dtype option on import or set low_memory=False.\n",
      "  df = pd.read_csv(f'../csv/final_merged_data/merged_data_{city}.csv')\n"
     ]
    },
    {
     "name": "stdout",
     "output_type": "stream",
     "text": [
      "City: Denver\n",
      "Mean Squared Error (MSE): 111.69162812876387\n",
      "Root Mean Squared Error (RMSE): 10.568426000534037\n",
      "R^2 Score: 0.23062028228043263\n"
     ]
    },
    {
     "name": "stderr",
     "output_type": "stream",
     "text": [
      "/var/folders/6m/1wyk0cv146d91z1nsb6cxh6w0000gn/T/ipykernel_56845/3886418589.py:22: DtypeWarning: Columns (34) have mixed types. Specify dtype option on import or set low_memory=False.\n",
      "  df = pd.read_csv(f'../csv/final_merged_data/merged_data_{city}.csv')\n"
     ]
    },
    {
     "name": "stdout",
     "output_type": "stream",
     "text": [
      "City: Boston\n",
      "Mean Squared Error (MSE): 185.99268069303412\n",
      "Root Mean Squared Error (RMSE): 13.637913355533321\n",
      "R^2 Score: 0.23646223457032778\n"
     ]
    }
   ],
   "source": [
    "import pandas as pd\n",
    "from sklearn.model_selection import train_test_split\n",
    "from sklearn.linear_model import ElasticNet\n",
    "from sklearn.preprocessing import StandardScaler\n",
    "from sklearn.impute import SimpleImputer\n",
    "from sklearn.metrics import mean_squared_error, r2_score\n",
    "from sklearn.pipeline import Pipeline\n",
    "from math import sqrt\n",
    "import numpy as np\n",
    "from joblib import dump\n",
    "\n",
    "def removeMissingRows(df, column_names):\n",
    "    df = df.dropna(subset=column_names)\n",
    "    return df\n",
    "\n",
    "# List of cities\n",
    "cities = ['Bakersfield', 'Los_Angeles', 'New_York', 'Phoenix', 'Reno', 'Visalia', 'Denver', 'Boston']\n",
    "\n",
    "# Loop through each city\n",
    "for city in cities:\n",
    "    # Load the dataset for each city\n",
    "    df = pd.read_csv(f'../csv/final_merged_data/merged_data_{city}.csv')\n",
    "    df = removeMissingRows(df, 'aqi')\n",
    "    # Define features and target\n",
    "    numerical_features = ['temp', 'visibility', 'dew_point', 'feels_like', 'pressure', 'humidity', 'wind_speed', 'wind_deg', 'wind_gust', 'rain_1h', 'snow_1h', 'clouds_all', 'weather_id', 'year', 'month', 'day']\n",
    "    X = df[numerical_features]\n",
    "    y = df['aqi']\n",
    "\n",
    "    # Split the data into training and testing sets\n",
    "    X_train, X_test, y_train, y_test = train_test_split(X, y, test_size=0.2, random_state=42)\n",
    "\n",
    "    # Create a pipeline for preprocessing and regression\n",
    "    elastic_net_pipeline = Pipeline([\n",
    "        ('imputer', SimpleImputer(missing_values=np.nan, strategy='mean')),\n",
    "        ('scaler', StandardScaler()),\n",
    "        ('regressor', ElasticNet(alpha=0.1, l1_ratio=0.5, random_state=42))\n",
    "    ])\n",
    "\n",
    "    # Train the model\n",
    "    elastic_net_pipeline.fit(X_train, y_train)\n",
    "\n",
    "    # Predict using the model\n",
    "    y_pred = elastic_net_pipeline.predict(X_test)\n",
    "\n",
    "    # Calculate performance metrics\n",
    "    mse = mean_squared_error(y_test, y_pred)\n",
    "    rmse = sqrt(mse)\n",
    "    r2 = r2_score(y_test, y_pred)\n",
    "\n",
    "    # Output the performance metrics\n",
    "    print(f\"City: {city}\")\n",
    "    print(f\"Mean Squared Error (MSE): {mse}\")\n",
    "    print(f\"Root Mean Squared Error (RMSE): {rmse}\")\n",
    "    print(f\"R^2 Score: {r2}\")\n",
    "\n",
    "    # Save the trained model and results\n",
    "    dump(elastic_net_pipeline, f'elastic_net_model_{city}.joblib')\n",
    "    with open(f'elastic_net_results_{city}.txt', 'w') as file:\n",
    "        file.write(f\"Mean Squared Error (MSE): {mse}\\n\")\n",
    "        file.write(f\"Root Mean Squared Error (RMSE): {rmse}\\n\")\n",
    "        file.write(f\"R^2 Score: {r2}\\n\")\n",
    "\n"
   ]
  }
 ],
 "metadata": {
  "kernelspec": {
   "display_name": "base",
   "language": "python",
   "name": "python3"
  },
  "language_info": {
   "codemirror_mode": {
    "name": "ipython",
    "version": 3
   },
   "file_extension": ".py",
   "mimetype": "text/x-python",
   "name": "python",
   "nbconvert_exporter": "python",
   "pygments_lexer": "ipython3",
   "version": "3.10.9"
  }
 },
 "nbformat": 4,
 "nbformat_minor": 2
}
