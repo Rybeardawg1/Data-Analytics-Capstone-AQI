{
 "cells": [
  {
   "cell_type": "code",
   "execution_count": 1,
   "metadata": {},
   "outputs": [],
   "source": [
    "import numpy as np\n",
    "\n",
    "def detect_outliers_zscore(data, threshold=3):\n",
    "    mean = np.mean(data)\n",
    "    std = np.std(data)\n",
    "    z_scores = [(y - mean) / std for y in data]\n",
    "    print('ran')\n",
    "    return np.where(np.abs(z_scores) > threshold)\n"
   ]
  },
  {
   "cell_type": "code",
   "execution_count": 2,
   "metadata": {},
   "outputs": [],
   "source": [
    "def detect_outliers_iqr(data):\n",
    "    Q1 = np.percentile(data, 25)\n",
    "    Q3 = np.percentile(data, 75)\n",
    "    IQR = Q3 - Q1\n",
    "    outlier_indices = np.where((data < Q1 - 1.5 * IQR) | (data > Q3 + 1.5 * IQR))\n",
    "    print('ran')\n",
    "    return outlier_indices\n"
   ]
  },
  {
   "cell_type": "code",
   "execution_count": 3,
   "metadata": {},
   "outputs": [],
   "source": [
    "from sklearn.ensemble import IsolationForest\n",
    "import numpy as np\n",
    "\n",
    "def detect_outliers_isolation_forest(data):\n",
    "    # Reshape data if it's a 1D array\n",
    "    if data.ndim == 1:\n",
    "        data = data.reshape(-1, 1)\n",
    "    \n",
    "    clf = IsolationForest(random_state=42, contamination='auto')\n",
    "    preds = clf.fit_predict(data)\n",
    "    \n",
    "    # Find indices of outliers\n",
    "    outlier_indices = np.where(preds == -1)\n",
    "    print('ran')\n",
    "    return outlier_indices\n"
   ]
  },
  {
   "cell_type": "code",
   "execution_count": 4,
   "metadata": {},
   "outputs": [],
   "source": [
    "from sklearn.neighbors import LocalOutlierFactor\n",
    "\n",
    "def detect_outliers_lof(data):\n",
    "    # Reshape data if it's a 1D array\n",
    "    if data.ndim == 1:\n",
    "        data = data.reshape(-1, 1)\n",
    "    lof = LocalOutlierFactor(n_neighbors=20, contamination='auto')\n",
    "    preds = lof.fit_predict(data)\n",
    "    outlier_indices = np.where(preds == -1)\n",
    "    print('ran')\n",
    "    return outlier_indices\n"
   ]
  },
  {
   "cell_type": "code",
   "execution_count": 5,
   "metadata": {},
   "outputs": [],
   "source": [
    "from sklearn.cluster import DBSCAN\n",
    "\n",
    "def detect_outliers_dbscan(data, eps=0.5, min_samples=5):\n",
    "    # Reshape data if it's a 1D array\n",
    "    if data.ndim == 1:\n",
    "        data = data.reshape(-1, 1)\n",
    "    dbscan = DBSCAN(eps=eps, min_samples=min_samples)\n",
    "    preds = dbscan.fit_predict(data)\n",
    "    outlier_indices = np.where(preds == -1)\n",
    "    print('ran')\n",
    "    return outlier_indices\n"
   ]
  },
  {
   "cell_type": "code",
   "execution_count": 6,
   "metadata": {},
   "outputs": [],
   "source": [
    "from sklearn.svm import OneClassSVM\n",
    "\n",
    "def detect_outliers_one_class_svm(data, nu=0.05, gamma='scale'):\n",
    "    # Reshape data if it's a 1D array\n",
    "    if data.ndim == 1:\n",
    "        data = data.reshape(-1, 1)\n",
    "    oc_svm = OneClassSVM(nu=nu, kernel=\"rbf\", gamma=gamma)\n",
    "    preds = oc_svm.fit_predict(data)\n",
    "    outlier_indices = np.where(preds == -1)\n",
    "    print('ran')\n",
    "    return outlier_indices\n"
   ]
  },
  {
   "cell_type": "code",
   "execution_count": 8,
   "metadata": {},
   "outputs": [
    {
     "ename": "ModuleNotFoundError",
     "evalue": "No module named 'pync'",
     "output_type": "error",
     "traceback": [
      "\u001b[0;31m---------------------------------------------------------------------------\u001b[0m",
      "\u001b[0;31mModuleNotFoundError\u001b[0m                       Traceback (most recent call last)",
      "Cell \u001b[0;32mIn[8], line 3\u001b[0m\n\u001b[1;32m      1\u001b[0m \u001b[38;5;28;01mimport\u001b[39;00m \u001b[38;5;21;01mpandas\u001b[39;00m \u001b[38;5;28;01mas\u001b[39;00m \u001b[38;5;21;01mpd\u001b[39;00m\n\u001b[1;32m      2\u001b[0m \u001b[38;5;28;01mimport\u001b[39;00m \u001b[38;5;21;01mos\u001b[39;00m\n\u001b[0;32m----> 3\u001b[0m \u001b[38;5;28;01mfrom\u001b[39;00m \u001b[38;5;21;01mpync\u001b[39;00m \u001b[38;5;28;01mimport\u001b[39;00m Notifier\n\u001b[1;32m      5\u001b[0m df \u001b[38;5;241m=\u001b[39m pd\u001b[38;5;241m.\u001b[39mread_csv(\u001b[38;5;124m'\u001b[39m\u001b[38;5;124m../csv/merged_data.csv\u001b[39m\u001b[38;5;124m'\u001b[39m)\n\u001b[1;32m      7\u001b[0m \u001b[38;5;66;03m# Detect outliers using Z-Score\u001b[39;00m\n",
      "\u001b[0;31mModuleNotFoundError\u001b[0m: No module named 'pync'"
     ]
    }
   ],
   "source": [
    "import pandas as pd\n",
    "import os\n",
    "from pync import Notifier\n",
    "\n",
    "df = pd.read_csv('../csv/merged_data.csv')\n",
    "\n",
    "# Detect outliers using Z-Score\n",
    "target_feature = df['aqi'].values\n",
    "outliers_zscore = detect_outliers_zscore(target_feature)\n",
    "outliers_iqr = detect_outliers_iqr(target_feature)\n",
    "outliers_isolation_forest = detect_outliers_isolation_forest(target_feature)\n",
    "outliers_lof = detect_outliers_lof(target_feature)\n",
    "outliers_dbscan = detect_outliers_dbscan(target_feature)\n",
    "outliers_oneclass_svm =detect_outliers_one_class_svm(target_feature)\n",
    "print(\"Outliers detected using Z-Score:\", outliers_zscore)\n",
    "print(\"Outliers detected using IQR:\", outliers_iqr)\n",
    "print(\"Outliers detected using Isolation Forest:\", outliers_isolation_forest)\n",
    "print(\"Outliers detected using Local Outlier Factor:\", outliers_lof)\n",
    "print(\"Outliers detected using DBScan:\", outliers_dbscan)\n",
    "print(\"Outliers detected using One Class SVM:\", outliers_oneclass_svm)\n",
    "\n",
    "\n",
    "Notifier.notify('Your notebook has finished running.', title='Notification')\n",
    "os.system('say \"Your notebook has finished running.\"')\n"
   ]
  }
 ],
 "metadata": {
  "kernelspec": {
   "display_name": "base",
   "language": "python",
   "name": "python3"
  },
  "language_info": {
   "codemirror_mode": {
    "name": "ipython",
    "version": 3
   },
   "file_extension": ".py",
   "mimetype": "text/x-python",
   "name": "python",
   "nbconvert_exporter": "python",
   "pygments_lexer": "ipython3",
   "version": "3.10.5"
  }
 },
 "nbformat": 4,
 "nbformat_minor": 2
}
