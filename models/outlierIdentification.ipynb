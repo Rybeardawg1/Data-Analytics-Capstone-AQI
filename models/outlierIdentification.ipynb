{
 "cells": [
  {
   "cell_type": "code",
   "execution_count": 2,
   "metadata": {},
   "outputs": [],
   "source": [
    "import numpy as np\n",
    "\n",
    "def detect_outliers_zscore(data, threshold=3):\n",
    "    mean = np.mean(data)\n",
    "    std = np.std(data)\n",
    "    z_scores = [(y - mean) / std for y in data]\n",
    "    print('ran')\n",
    "    return np.where(np.abs(z_scores) > threshold)\n"
   ]
  },
  {
   "cell_type": "code",
   "execution_count": 3,
   "metadata": {},
   "outputs": [],
   "source": [
    "def detect_outliers_iqr(data):\n",
    "    Q1 = np.percentile(data, 25)\n",
    "    Q3 = np.percentile(data, 75)\n",
    "    IQR = Q3 - Q1\n",
    "    outlier_indices = np.where((data < Q1 - 1.5 * IQR) | (data > Q3 + 1.5 * IQR))\n",
    "    print('ran')\n",
    "    return outlier_indices\n"
   ]
  },
  {
   "cell_type": "code",
   "execution_count": 4,
   "metadata": {},
   "outputs": [],
   "source": [
    "from sklearn.ensemble import IsolationForest\n",
    "import numpy as np\n",
    "\n",
    "def detect_outliers_isolation_forest(data):\n",
    "    # Reshape data if it's a 1D array\n",
    "    if data.ndim == 1:\n",
    "        data = data.reshape(-1, 1)\n",
    "    \n",
    "    clf = IsolationForest(random_state=42, contamination='auto')\n",
    "    preds = clf.fit_predict(data)\n",
    "    \n",
    "    # Find indices of outliers\n",
    "    outlier_indices = np.where(preds == -1)\n",
    "    print('ran')\n",
    "    return outlier_indices\n"
   ]
  },
  {
   "cell_type": "code",
   "execution_count": 5,
   "metadata": {},
   "outputs": [],
   "source": [
    "from sklearn.neighbors import LocalOutlierFactor\n",
    "\n",
    "def detect_outliers_lof(data):\n",
    "    # Reshape data if it's a 1D array\n",
    "    if data.ndim == 1:\n",
    "        data = data.reshape(-1, 1)\n",
    "    lof = LocalOutlierFactor(n_neighbors=20, contamination='auto')\n",
    "    preds = lof.fit_predict(data)\n",
    "    outlier_indices = np.where(preds == -1)\n",
    "    print('ran')\n",
    "    return outlier_indices\n"
   ]
  },
  {
   "cell_type": "code",
   "execution_count": 6,
   "metadata": {},
   "outputs": [],
   "source": [
    "from sklearn.cluster import DBSCAN\n",
    "\n",
    "def detect_outliers_dbscan(data, eps=0.5, min_samples=5):\n",
    "    # Reshape data if it's a 1D array\n",
    "    if data.ndim == 1:\n",
    "        data = data.reshape(-1, 1)\n",
    "    dbscan = DBSCAN(eps=eps, min_samples=min_samples)\n",
    "    preds = dbscan.fit_predict(data)\n",
    "    outlier_indices = np.where(preds == -1)\n",
    "    print('ran')\n",
    "    return outlier_indices\n"
   ]
  },
  {
   "cell_type": "code",
   "execution_count": 7,
   "metadata": {},
   "outputs": [],
   "source": [
    "from sklearn.svm import OneClassSVM\n",
    "\n",
    "def detect_outliers_one_class_svm(data, nu=0.05, gamma='scale'):\n",
    "    # Reshape data if it's a 1D array\n",
    "    if data.ndim == 1:\n",
    "        data = data.reshape(-1, 1)\n",
    "    oc_svm = OneClassSVM(nu=nu, kernel=\"rbf\", gamma=gamma)\n",
    "    preds = oc_svm.fit_predict(data)\n",
    "    outlier_indices = np.where(preds == -1)\n",
    "    print('ran')\n",
    "    return outlier_indices\n"
   ]
  },
  {
   "cell_type": "code",
   "execution_count": 10,
   "metadata": {},
   "outputs": [
    {
     "name": "stderr",
     "output_type": "stream",
     "text": [
      "/var/folders/6m/1wyk0cv146d91z1nsb6cxh6w0000gn/T/ipykernel_36191/1691395734.py:5: DtypeWarning: Columns (34) have mixed types. Specify dtype option on import or set low_memory=False.\n",
      "  df = pd.read_csv('../csv/merged_data.csv')\n"
     ]
    },
    {
     "name": "stdout",
     "output_type": "stream",
     "text": [
      "ran\n",
      "ran\n"
     ]
    },
    {
     "ename": "KeyboardInterrupt",
     "evalue": "",
     "output_type": "error",
     "traceback": [
      "\u001b[0;31m---------------------------------------------------------------------------\u001b[0m",
      "\u001b[0;31mKeyboardInterrupt\u001b[0m                         Traceback (most recent call last)",
      "Cell \u001b[0;32mIn[10], line 33\u001b[0m\n\u001b[1;32m     31\u001b[0m     \u001b[38;5;66;03m# Extracting the dates and AQI values of detected outliers\u001b[39;00m\n\u001b[1;32m     32\u001b[0m     outlier_dates_aqi \u001b[38;5;241m=\u001b[39m df\u001b[38;5;241m.\u001b[39miloc[outlier_indices[\u001b[38;5;241m0\u001b[39m]][[\u001b[38;5;124m'\u001b[39m\u001b[38;5;124mdate\u001b[39m\u001b[38;5;124m'\u001b[39m, \u001b[38;5;124m'\u001b[39m\u001b[38;5;124maqi\u001b[39m\u001b[38;5;124m'\u001b[39m]]\n\u001b[0;32m---> 33\u001b[0m     \u001b[38;5;28;01mfor\u001b[39;00m _, row \u001b[38;5;129;01min\u001b[39;00m outlier_dates_aqi\u001b[38;5;241m.\u001b[39miterrows():\n\u001b[1;32m     34\u001b[0m         outlier_info\u001b[38;5;241m.\u001b[39mappend((row[\u001b[38;5;124m'\u001b[39m\u001b[38;5;124mdate\u001b[39m\u001b[38;5;124m'\u001b[39m], row[\u001b[38;5;124m'\u001b[39m\u001b[38;5;124maqi\u001b[39m\u001b[38;5;124m'\u001b[39m]))\n\u001b[1;32m     36\u001b[0m \u001b[38;5;66;03m# Sort the outliers by date\u001b[39;00m\n",
      "File \u001b[0;32m~/anaconda3/lib/python3.10/site-packages/pandas/core/frame.py:1411\u001b[0m, in \u001b[0;36mDataFrame.iterrows\u001b[0;34m(self)\u001b[0m\n\u001b[1;32m   1409\u001b[0m klass \u001b[38;5;241m=\u001b[39m \u001b[38;5;28mself\u001b[39m\u001b[38;5;241m.\u001b[39m_constructor_sliced\n\u001b[1;32m   1410\u001b[0m \u001b[38;5;28;01mfor\u001b[39;00m k, v \u001b[38;5;129;01min\u001b[39;00m \u001b[38;5;28mzip\u001b[39m(\u001b[38;5;28mself\u001b[39m\u001b[38;5;241m.\u001b[39mindex, \u001b[38;5;28mself\u001b[39m\u001b[38;5;241m.\u001b[39mvalues):\n\u001b[0;32m-> 1411\u001b[0m     s \u001b[38;5;241m=\u001b[39m \u001b[43mklass\u001b[49m\u001b[43m(\u001b[49m\u001b[43mv\u001b[49m\u001b[43m,\u001b[49m\u001b[43m \u001b[49m\u001b[43mindex\u001b[49m\u001b[38;5;241;43m=\u001b[39;49m\u001b[43mcolumns\u001b[49m\u001b[43m,\u001b[49m\u001b[43m \u001b[49m\u001b[43mname\u001b[49m\u001b[38;5;241;43m=\u001b[39;49m\u001b[43mk\u001b[49m\u001b[43m)\u001b[49m\u001b[38;5;241m.\u001b[39m__finalize__(\u001b[38;5;28mself\u001b[39m)\n\u001b[1;32m   1412\u001b[0m     \u001b[38;5;28;01myield\u001b[39;00m k, s\n",
      "File \u001b[0;32m~/anaconda3/lib/python3.10/site-packages/pandas/core/series.py:470\u001b[0m, in \u001b[0;36mSeries.__init__\u001b[0;34m(self, data, index, dtype, name, copy, fastpath)\u001b[0m\n\u001b[1;32m    468\u001b[0m         data \u001b[38;5;241m=\u001b[39m data\u001b[38;5;241m.\u001b[39mcopy()\n\u001b[1;32m    469\u001b[0m \u001b[38;5;28;01melse\u001b[39;00m:\n\u001b[0;32m--> 470\u001b[0m     data \u001b[38;5;241m=\u001b[39m \u001b[43msanitize_array\u001b[49m\u001b[43m(\u001b[49m\u001b[43mdata\u001b[49m\u001b[43m,\u001b[49m\u001b[43m \u001b[49m\u001b[43mindex\u001b[49m\u001b[43m,\u001b[49m\u001b[43m \u001b[49m\u001b[43mdtype\u001b[49m\u001b[43m,\u001b[49m\u001b[43m \u001b[49m\u001b[43mcopy\u001b[49m\u001b[43m)\u001b[49m\n\u001b[1;32m    472\u001b[0m     manager \u001b[38;5;241m=\u001b[39m get_option(\u001b[38;5;124m\"\u001b[39m\u001b[38;5;124mmode.data_manager\u001b[39m\u001b[38;5;124m\"\u001b[39m)\n\u001b[1;32m    473\u001b[0m     \u001b[38;5;28;01mif\u001b[39;00m manager \u001b[38;5;241m==\u001b[39m \u001b[38;5;124m\"\u001b[39m\u001b[38;5;124mblock\u001b[39m\u001b[38;5;124m\"\u001b[39m:\n",
      "File \u001b[0;32m~/anaconda3/lib/python3.10/site-packages/pandas/core/construction.py:534\u001b[0m, in \u001b[0;36msanitize_array\u001b[0;34m(data, index, dtype, copy, raise_cast_failure, allow_2d)\u001b[0m\n\u001b[1;32m    531\u001b[0m     dtype \u001b[38;5;241m=\u001b[39m dtype\u001b[38;5;241m.\u001b[39mnumpy_dtype\n\u001b[1;32m    533\u001b[0m \u001b[38;5;66;03m# extract ndarray or ExtensionArray, ensure we have no PandasArray\u001b[39;00m\n\u001b[0;32m--> 534\u001b[0m data \u001b[38;5;241m=\u001b[39m \u001b[43mextract_array\u001b[49m\u001b[43m(\u001b[49m\u001b[43mdata\u001b[49m\u001b[43m,\u001b[49m\u001b[43m \u001b[49m\u001b[43mextract_numpy\u001b[49m\u001b[38;5;241;43m=\u001b[39;49m\u001b[38;5;28;43;01mTrue\u001b[39;49;00m\u001b[43m,\u001b[49m\u001b[43m \u001b[49m\u001b[43mextract_range\u001b[49m\u001b[38;5;241;43m=\u001b[39;49m\u001b[38;5;28;43;01mTrue\u001b[39;49;00m\u001b[43m)\u001b[49m\n\u001b[1;32m    536\u001b[0m \u001b[38;5;28;01mif\u001b[39;00m \u001b[38;5;28misinstance\u001b[39m(data, np\u001b[38;5;241m.\u001b[39mndarray) \u001b[38;5;129;01mand\u001b[39;00m data\u001b[38;5;241m.\u001b[39mndim \u001b[38;5;241m==\u001b[39m \u001b[38;5;241m0\u001b[39m:\n\u001b[1;32m    537\u001b[0m     \u001b[38;5;28;01mif\u001b[39;00m dtype \u001b[38;5;129;01mis\u001b[39;00m \u001b[38;5;28;01mNone\u001b[39;00m:\n",
      "File \u001b[0;32m~/anaconda3/lib/python3.10/site-packages/pandas/core/construction.py:455\u001b[0m, in \u001b[0;36mextract_array\u001b[0;34m(obj, extract_numpy, extract_range)\u001b[0m\n\u001b[1;32m    451\u001b[0m         \u001b[38;5;28;01mreturn\u001b[39;00m obj  \u001b[38;5;66;03m# type: ignore[return-value]\u001b[39;00m\n\u001b[1;32m    453\u001b[0m     \u001b[38;5;28;01mreturn\u001b[39;00m obj\u001b[38;5;241m.\u001b[39m_values\n\u001b[0;32m--> 455\u001b[0m \u001b[38;5;28;01melif\u001b[39;00m extract_numpy \u001b[38;5;129;01mand\u001b[39;00m \u001b[38;5;28;43misinstance\u001b[39;49m\u001b[43m(\u001b[49m\u001b[43mobj\u001b[49m\u001b[43m,\u001b[49m\u001b[43m \u001b[49m\u001b[43mABCPandasArray\u001b[49m\u001b[43m)\u001b[49m:\n\u001b[1;32m    456\u001b[0m     \u001b[38;5;28;01mreturn\u001b[39;00m obj\u001b[38;5;241m.\u001b[39mto_numpy()\n\u001b[1;32m    458\u001b[0m \u001b[38;5;28;01mreturn\u001b[39;00m obj\n",
      "File \u001b[0;32m~/anaconda3/lib/python3.10/site-packages/pandas/core/dtypes/generic.py:47\u001b[0m, in \u001b[0;36mcreate_pandas_abc_type.<locals>._instancecheck\u001b[0;34m(cls, inst)\u001b[0m\n\u001b[1;32m     45\u001b[0m \u001b[38;5;129m@classmethod\u001b[39m  \u001b[38;5;66;03m# type: ignore[misc]\u001b[39;00m\n\u001b[1;32m     46\u001b[0m \u001b[38;5;28;01mdef\u001b[39;00m \u001b[38;5;21m_instancecheck\u001b[39m(\u001b[38;5;28mcls\u001b[39m, inst) \u001b[38;5;241m-\u001b[39m\u001b[38;5;241m>\u001b[39m \u001b[38;5;28mbool\u001b[39m:\n\u001b[0;32m---> 47\u001b[0m     \u001b[38;5;28;01mreturn\u001b[39;00m \u001b[43m_check\u001b[49m\u001b[43m(\u001b[49m\u001b[43minst\u001b[49m\u001b[43m)\u001b[49m \u001b[38;5;129;01mand\u001b[39;00m \u001b[38;5;129;01mnot\u001b[39;00m \u001b[38;5;28misinstance\u001b[39m(inst, \u001b[38;5;28mtype\u001b[39m)\n",
      "\u001b[0;31mKeyboardInterrupt\u001b[0m: "
     ]
    }
   ],
   "source": [
    "import pandas as pd\n",
    "import os\n",
    "from pync import Notifier\n",
    "\n",
    "df = pd.read_csv('../csv/merged_data.csv')\n",
    "\n",
    "# Detect outliers using Z-Score\n",
    "# target_feature = df['aqi'].values\n",
    "# outliers_zscore = detect_outliers_zscore(target_feature)\n",
    "# outliers_iqr = detect_outliers_iqr(target_feature)\n",
    "# outliers_isolation_forest = detect_outliers_isolation_forest(target_feature)\n",
    "# outliers_lof = detect_outliers_lof(target_feature)\n",
    "\n",
    "# print(\"Outliers detected using Z-Score:\", outliers_zscore)\n",
    "# print(\"Outliers detected using IQR:\", outliers_iqr)\n",
    "# print(\"Outliers detected using Isolation Forest:\", outliers_isolation_forest)\n",
    "# print(\"Outliers detected using Local Outlier Factor:\", outliers_lof)\n",
    "\n",
    "\n",
    "df['date'] = pd.to_datetime(df[['year', 'month', 'day']])  # This combines year, month, day\n",
    "\n",
    "# Placeholder for detected outlier dates\n",
    "outlier_dates_set = set()\n",
    "outlier_info = []\n",
    "\n",
    "# Example usage on the 'value' column\n",
    "methods = [detect_outliers_zscore, detect_outliers_iqr, detect_outliers_isolation_forest, detect_outliers_lof]\n",
    "\n",
    "for method in methods:\n",
    "    outlier_indices = method(df['aqi'].values)\n",
    "    # Extracting the dates and AQI values of detected outliers\n",
    "    outlier_dates_aqi = df.iloc[outlier_indices[0]][['date', 'aqi']]\n",
    "    for _, row in outlier_dates_aqi.iterrows():\n",
    "        outlier_info.append((row['date'], row['aqi']))\n",
    "\n",
    "# Sort the outliers by date\n",
    "outlier_info = sorted(outlier_info, key=lambda x: x[0])\n",
    "#then by aqi\n",
    "outlier_info_sorted_by_aqi = sorted(outlier_info, key=lambda x: x[1], reverse=True)[:10]\n",
    "\n",
    "# Now, write the outlier dates and AQI values to a file\n",
    "with open('outlier_dates_aqi.txt', 'w') as file:\n",
    "    for date, aqi in outlier_info:\n",
    "        file.write(f\"Date: {date}, AQI: {aqi}\\n\")\n",
    "    file.write(\"Top Ten AQI Dates:\")\n",
    "    for date, aqi in outlier_info_sorted_by_aqi:\n",
    "        file.write(f\"Date: {date}, AQI: {aqi}\\n\")\n",
    "\n",
    "print(\"Outlier dates and AQI values saved to outlier_dates_aqi.txt\")"
   ]
  }
 ],
 "metadata": {
  "kernelspec": {
   "display_name": "base",
   "language": "python",
   "name": "python3"
  },
  "language_info": {
   "codemirror_mode": {
    "name": "ipython",
    "version": 3
   },
   "file_extension": ".py",
   "mimetype": "text/x-python",
   "name": "python",
   "nbconvert_exporter": "python",
   "pygments_lexer": "ipython3",
   "version": "3.10.9"
  }
 },
 "nbformat": 4,
 "nbformat_minor": 2
}
