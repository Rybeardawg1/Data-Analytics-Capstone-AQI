{
 "cells": [
  {
   "cell_type": "code",
   "execution_count": 1,
   "metadata": {},
   "outputs": [],
   "source": [
    "import numpy as np\n",
    "\n",
    "def detect_outliers_zscore(data, threshold=3):\n",
    "    mean = np.mean(data)\n",
    "    std = np.std(data)\n",
    "    z_scores = [(y - mean) / std for y in data]\n",
    "    print('ran')\n",
    "    return np.where(np.abs(z_scores) > threshold)\n"
   ]
  },
  {
   "cell_type": "code",
   "execution_count": 2,
   "metadata": {},
   "outputs": [],
   "source": [
    "def detect_outliers_iqr(data):\n",
    "    Q1 = np.percentile(data, 25)\n",
    "    Q3 = np.percentile(data, 75)\n",
    "    IQR = Q3 - Q1\n",
    "    outlier_indices = np.where((data < Q1 - 1.5 * IQR) | (data > Q3 + 1.5 * IQR))\n",
    "    print('ran')\n",
    "    return outlier_indices\n"
   ]
  },
  {
   "cell_type": "code",
   "execution_count": 3,
   "metadata": {},
   "outputs": [],
   "source": [
    "from sklearn.ensemble import IsolationForest\n",
    "import numpy as np\n",
    "\n",
    "def detect_outliers_isolation_forest(data):\n",
    "    # Reshape data if it's a 1D array\n",
    "    if data.ndim == 1:\n",
    "        data = data.reshape(-1, 1)\n",
    "    \n",
    "    clf = IsolationForest(random_state=42, contamination='auto')\n",
    "    preds = clf.fit_predict(data)\n",
    "    \n",
    "    # Find indices of outliers\n",
    "    outlier_indices = np.where(preds == -1)\n",
    "    print('ran')\n",
    "    return outlier_indices\n"
   ]
  },
  {
   "cell_type": "code",
   "execution_count": 4,
   "metadata": {},
   "outputs": [],
   "source": [
    "from sklearn.neighbors import LocalOutlierFactor\n",
    "\n",
    "def detect_outliers_lof(data):\n",
    "    # Reshape data if it's a 1D array\n",
    "    if data.ndim == 1:\n",
    "        data = data.reshape(-1, 1)\n",
    "    lof = LocalOutlierFactor(n_neighbors=20, contamination='auto')\n",
    "    preds = lof.fit_predict(data)\n",
    "    outlier_indices = np.where(preds == -1)\n",
    "    print('ran')\n",
    "    return outlier_indices\n"
   ]
  },
  {
   "cell_type": "code",
   "execution_count": 5,
   "metadata": {},
   "outputs": [],
   "source": [
    "from sklearn.cluster import DBSCAN\n",
    "\n",
    "def detect_outliers_dbscan(data, eps=0.5, min_samples=5):\n",
    "    # Reshape data if it's a 1D array\n",
    "    if data.ndim == 1:\n",
    "        data = data.reshape(-1, 1)\n",
    "    dbscan = DBSCAN(eps=eps, min_samples=min_samples)\n",
    "    preds = dbscan.fit_predict(data)\n",
    "    outlier_indices = np.where(preds == -1)\n",
    "    print('ran')\n",
    "    return outlier_indices\n"
   ]
  },
  {
   "cell_type": "code",
   "execution_count": 6,
   "metadata": {},
   "outputs": [],
   "source": [
    "from sklearn.svm import OneClassSVM\n",
    "\n",
    "def detect_outliers_one_class_svm(data, nu=0.05, gamma='scale'):\n",
    "    # Reshape data if it's a 1D array\n",
    "    if data.ndim == 1:\n",
    "        data = data.reshape(-1, 1)\n",
    "    oc_svm = OneClassSVM(nu=nu, kernel=\"rbf\", gamma=gamma)\n",
    "    preds = oc_svm.fit_predict(data)\n",
    "    outlier_indices = np.where(preds == -1)\n",
    "    print('ran')\n",
    "    return outlier_indices\n"
   ]
  },
  {
   "cell_type": "code",
   "execution_count": 7,
   "metadata": {},
   "outputs": [
    {
     "name": "stderr",
     "output_type": "stream",
     "text": [
      "/var/folders/6m/1wyk0cv146d91z1nsb6cxh6w0000gn/T/ipykernel_36382/3268096426.py:5: DtypeWarning: Columns (34) have mixed types. Specify dtype option on import or set low_memory=False.\n",
      "  df = pd.read_csv('../csv/merged_data.csv')\n"
     ]
    },
    {
     "name": "stdout",
     "output_type": "stream",
     "text": [
      "ran\n",
      "ran\n",
      "ran\n",
      "ran\n",
      "Outliers detected using Z-Score: (array([    279,     284,     478, ..., 1028593, 1028594, 1028595]),)\n",
      "Outliers detected using IQR: (array([    265,     279,     284, ..., 1028593, 1028594, 1028595]),)\n",
      "Outliers detected using Isolation Forest: (array([      6,       8,       9, ..., 1028655, 1028656, 1028657]),)\n",
      "Outliers detected using Local Outlier Factor: (array([   1500,    7363,    7366,    8644,   25629,   43467,   48730,\n",
      "         58678,   65105,   89628,  103066,  111360,  111368,  111376,\n",
      "        111408,  151073,  151355,  164550,  165315,  171252,  193863,\n",
      "        222778,  225726,  225730,  225747,  264820,  295326,  366827,\n",
      "        390001,  435521,  435531,  474857,  474899,  494973,  494974,\n",
      "        524459,  606726,  972803,  972809,  972815, 1023843, 1023848,\n",
      "       1024283, 1024287, 1024348, 1024384]),)\n"
     ]
    },
    {
     "data": {
      "text/plain": [
       "0"
      ]
     },
     "execution_count": 7,
     "metadata": {},
     "output_type": "execute_result"
    }
   ],
   "source": [
    "import pandas as pd\n",
    "import os\n",
    "from pync import Notifier\n",
    "\n",
    "df = pd.read_csv('../csv/merged_data.csv')\n",
    "\n",
    "# Detect outliers using Z-Score\n",
    "target_feature = df['aqi'].values\n",
    "outliers_zscore = detect_outliers_zscore(target_feature)\n",
    "outliers_iqr = detect_outliers_iqr(target_feature)\n",
    "outliers_isolation_forest = detect_outliers_isolation_forest(target_feature)\n",
    "outliers_lof = detect_outliers_lof(target_feature)\n",
    "# outliers_dbscan = detect_outliers_dbscan(target_feature)\n",
    "# outliers_oneclass_svm =detect_outliers_one_class_svm(target_feature)\n",
    "print(\"Outliers detected using Z-Score:\", outliers_zscore)\n",
    "print(\"Outliers detected using IQR:\", outliers_iqr)\n",
    "print(\"Outliers detected using Isolation Forest:\", outliers_isolation_forest)\n",
    "print(\"Outliers detected using Local Outlier Factor:\", outliers_lof)\n",
    "# print(\"Outliers detected using DBScan:\", outliers_dbscan)\n",
    "# print(\"Outliers detected using One Class SVM:\", outliers_oneclass_svm)\n",
    "\n",
    "\n",
    "Notifier.notify('Your notebook has finished running.', title='Notification')\n",
    "os.system('say \"Your notebook has finished running.\"')\n"
   ]
  }
 ],
 "metadata": {
  "kernelspec": {
   "display_name": "base",
   "language": "python",
   "name": "python3"
  },
  "language_info": {
   "codemirror_mode": {
    "name": "ipython",
    "version": 3
   },
   "file_extension": ".py",
   "mimetype": "text/x-python",
   "name": "python",
   "nbconvert_exporter": "python",
   "pygments_lexer": "ipython3",
   "version": "3.10.9"
  }
 },
 "nbformat": 4,
 "nbformat_minor": 2
}
