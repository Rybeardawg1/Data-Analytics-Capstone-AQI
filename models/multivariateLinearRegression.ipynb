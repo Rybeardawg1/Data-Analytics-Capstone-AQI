{
 "cells": [
  {
   "cell_type": "code",
   "execution_count": 4,
   "metadata": {},
   "outputs": [],
   "source": [
    "from sklearn.linear_model import LinearRegression\n",
    "from sklearn.metrics import mean_squared_error, r2_score\n",
    "import numpy as np\n",
    "import pandas as pd\n",
    "\n",
    "def perform_linear_regression(X, y):\n",
    "    model = LinearRegression()\n",
    "    model.fit(X, y)\n",
    "    y_pred = model.predict(X)\n",
    "\n",
    "    print(\"Model Coefficients:\", model.coef_)\n",
    "    print(\"Model Intercept:\", model.intercept_)\n",
    "\n",
    "    mse = mean_squared_error(y, y_pred)\n",
    "    r2 = r2_score(y, y_pred)\n",
    "    print(f\"Mean Squared Error: {mse:.2f}\")\n",
    "    print(f\"R-squared Score: {r2:.4f}\")\n",
    "    return model\n",
    "\n"
   ]
  },
  {
   "cell_type": "code",
   "execution_count": 5,
   "metadata": {},
   "outputs": [
    {
     "name": "stderr",
     "output_type": "stream",
     "text": [
      "/var/folders/6m/1wyk0cv146d91z1nsb6cxh6w0000gn/T/ipykernel_32647/3572299077.py:1: DtypeWarning: Columns (34) have mixed types. Specify dtype option on import or set low_memory=False.\n",
      "  df = pd.read_csv('../csv/merged_data.csv')\n"
     ]
    }
   ],
   "source": [
    "df = pd.read_csv('../csv/merged_data.csv')\n",
    "numerical_features = ['temp','visibility','dew_point','feels_like','pressure','humidity','wind_speed','wind_deg','wind_gust','rain_1h','snow_1h','clouds_all','weather_id', 'year','month','day']\n",
    "X = df[numerical_features]\n",
    "y = df['aqi']"
   ]
  },
  {
   "cell_type": "code",
   "execution_count": 7,
   "metadata": {},
   "outputs": [
    {
     "name": "stdout",
     "output_type": "stream",
     "text": [
      "Model Coefficients: [-2.06363240e+00 -4.66924479e-05  3.52186223e-01  8.95448956e-01\n",
      "  4.94294005e-02 -1.17979469e-01 -1.11737020e+00  5.14399285e-03\n",
      "  6.46476235e-02 -2.35136969e-01  2.38335147e-01  2.18124425e-03\n",
      "  5.19339786e-03 -5.20114902e-01 -7.35689266e-02  1.75414751e-02]\n",
      "Model Intercept: 679.9439635557703\n",
      "Mean Squared Error: 185.77\n",
      "R^2 Score: 0.2407\n"
     ]
    },
    {
     "data": {
      "text/plain": [
       "0"
      ]
     },
     "execution_count": 7,
     "metadata": {},
     "output_type": "execute_result"
    }
   ],
   "source": [
    "import os\n",
    "from pync import Notifier\n",
    "\n",
    "perform_linear_regression(X,y)\n",
    "# Use the say command for spoken text notification\n",
    "Notifier.notify('Your notebook has finished running.', title='Notification')\n",
    "os.system('say \"Your notebook has finished running.\"')"
   ]
  }
 ],
 "metadata": {
  "kernelspec": {
   "display_name": "base",
   "language": "python",
   "name": "python3"
  },
  "language_info": {
   "codemirror_mode": {
    "name": "ipython",
    "version": 3
   },
   "file_extension": ".py",
   "mimetype": "text/x-python",
   "name": "python",
   "nbconvert_exporter": "python",
   "pygments_lexer": "ipython3",
   "version": "3.10.9"
  }
 },
 "nbformat": 4,
 "nbformat_minor": 2
}
