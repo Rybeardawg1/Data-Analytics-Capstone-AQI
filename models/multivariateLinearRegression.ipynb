{
 "cells": [
  {
   "cell_type": "code",
   "execution_count": 1,
   "metadata": {},
   "outputs": [],
   "source": [
    "from sklearn.linear_model import LinearRegression\n",
    "from sklearn.metrics import mean_squared_error, r2_score\n",
    "from sklearn.metrics import mean_absolute_error\n",
    "from math import sqrt\n",
    "import numpy as np\n",
    "import pandas as pd\n",
    "\n",
    "def perform_linear_regression(X, y, cityname):\n",
    "    model = LinearRegression()\n",
    "    model.fit(X, y)\n",
    "    y_pred = model.predict(X)\n",
    "\n",
    "    # Open a file to write the results\n",
    "    with open('regression_results_'+ cityname +'.txt', 'w') as file:\n",
    "        file.write(f\"Model Coefficients: {model.coef_}\\n\")\n",
    "        file.write(f\"Model Intercept: {model.intercept_}\\n\")\n",
    "        \n",
    "        mse = mean_squared_error(y, y_pred)\n",
    "        rmse = sqrt(mse)\n",
    "        mae = mean_absolute_error(y, y_pred)\n",
    "        r2 = r2_score(y, y_pred)\n",
    "        file.write(f\"Mean Squared Error: {mse:.2f}\\n\")\n",
    "        file.write(f\"R-squared Score: {r2:.4f}\\n\")\n",
    "        file.write(f\"Mean Absolute Error: {mae:.2f}\\n\")\n",
    "        file.write(f\"Root Mean Squared Error: {rmse:.4f}\\n\")\n",
    "\n",
    "    return model\n",
    "\n"
   ]
  },
  {
   "cell_type": "code",
   "execution_count": 6,
   "metadata": {},
   "outputs": [],
   "source": [
    "def removeMissingRows(df, column_name):\n",
    "    df = df.dropna(subset=column_name)\n",
    "    return df"
   ]
  },
  {
   "cell_type": "code",
   "execution_count": 9,
   "metadata": {},
   "outputs": [
    {
     "name": "stderr",
     "output_type": "stream",
     "text": [
      "/var/folders/6m/1wyk0cv146d91z1nsb6cxh6w0000gn/T/ipykernel_5149/3719672129.py:6: DtypeWarning: Columns (39) have mixed types. Specify dtype option on import or set low_memory=False.\n",
      "  df = pd.read_csv('../csv/final_merged_data/merged_data_'+city+'.csv')\n"
     ]
    },
    {
     "name": "stdout",
     "output_type": "stream",
     "text": [
      "results saved to linear_regression_model_Bakersfield.joblib\n"
     ]
    },
    {
     "name": "stderr",
     "output_type": "stream",
     "text": [
      "/var/folders/6m/1wyk0cv146d91z1nsb6cxh6w0000gn/T/ipykernel_5149/3719672129.py:6: DtypeWarning: Columns (39) have mixed types. Specify dtype option on import or set low_memory=False.\n",
      "  df = pd.read_csv('../csv/final_merged_data/merged_data_'+city+'.csv')\n"
     ]
    },
    {
     "name": "stdout",
     "output_type": "stream",
     "text": [
      "results saved to linear_regression_model_Los_Angeles.joblib\n"
     ]
    },
    {
     "name": "stderr",
     "output_type": "stream",
     "text": [
      "/var/folders/6m/1wyk0cv146d91z1nsb6cxh6w0000gn/T/ipykernel_5149/3719672129.py:6: DtypeWarning: Columns (39) have mixed types. Specify dtype option on import or set low_memory=False.\n",
      "  df = pd.read_csv('../csv/final_merged_data/merged_data_'+city+'.csv')\n"
     ]
    },
    {
     "name": "stdout",
     "output_type": "stream",
     "text": [
      "results saved to linear_regression_model_New_York.joblib\n"
     ]
    },
    {
     "name": "stderr",
     "output_type": "stream",
     "text": [
      "/var/folders/6m/1wyk0cv146d91z1nsb6cxh6w0000gn/T/ipykernel_5149/3719672129.py:6: DtypeWarning: Columns (39) have mixed types. Specify dtype option on import or set low_memory=False.\n",
      "  df = pd.read_csv('../csv/final_merged_data/merged_data_'+city+'.csv')\n"
     ]
    },
    {
     "name": "stdout",
     "output_type": "stream",
     "text": [
      "results saved to linear_regression_model_Phoenix.joblib\n"
     ]
    },
    {
     "name": "stderr",
     "output_type": "stream",
     "text": [
      "/var/folders/6m/1wyk0cv146d91z1nsb6cxh6w0000gn/T/ipykernel_5149/3719672129.py:6: DtypeWarning: Columns (39) have mixed types. Specify dtype option on import or set low_memory=False.\n",
      "  df = pd.read_csv('../csv/final_merged_data/merged_data_'+city+'.csv')\n"
     ]
    },
    {
     "name": "stdout",
     "output_type": "stream",
     "text": [
      "results saved to linear_regression_model_Reno.joblib\n",
      "results saved to linear_regression_model_Visalia.joblib\n"
     ]
    },
    {
     "name": "stderr",
     "output_type": "stream",
     "text": [
      "/var/folders/6m/1wyk0cv146d91z1nsb6cxh6w0000gn/T/ipykernel_5149/3719672129.py:6: DtypeWarning: Columns (39) have mixed types. Specify dtype option on import or set low_memory=False.\n",
      "  df = pd.read_csv('../csv/final_merged_data/merged_data_'+city+'.csv')\n"
     ]
    },
    {
     "name": "stdout",
     "output_type": "stream",
     "text": [
      "results saved to linear_regression_model_Denver.joblib\n"
     ]
    },
    {
     "name": "stderr",
     "output_type": "stream",
     "text": [
      "/var/folders/6m/1wyk0cv146d91z1nsb6cxh6w0000gn/T/ipykernel_5149/3719672129.py:6: DtypeWarning: Columns (34) have mixed types. Specify dtype option on import or set low_memory=False.\n",
      "  df = pd.read_csv('../csv/final_merged_data/merged_data_'+city+'.csv')\n"
     ]
    },
    {
     "name": "stdout",
     "output_type": "stream",
     "text": [
      "results saved to linear_regression_model_Boston.joblib\n"
     ]
    }
   ],
   "source": [
    "from joblib import dump\n",
    "\n",
    "\n",
    "cities = ['Bakersfield','Los_Angeles','New_York','Phoenix','Reno','Visalia','Denver', 'Boston']\n",
    "for city in cities:\n",
    "    df = pd.read_csv('../csv/final_merged_data/merged_data_'+city+'.csv')\n",
    "    numerical_features = ['temp','visibility','dew_point','feels_like','pressure','humidity','wind_speed','wind_deg','wind_gust','rain_1h','snow_1h','clouds_all','weather_id', 'year','month','day']\n",
    "    df = removeMissingRows(df, numerical_features)\n",
    "    df = removeMissingRows(df, ['aqi'])\n",
    "    X = df[numerical_features]\n",
    "    y = df['aqi']\n",
    "    lr_model = perform_linear_regression(X, y, city)\n",
    "    dump(lr_model, 'linear_regression_model_'+city+'.joblib')\n",
    "    print('results saved to linear_regression_model_'+city+'.joblib')"
   ]
  },
  {
   "cell_type": "code",
   "execution_count": 6,
   "metadata": {},
   "outputs": [
    {
     "name": "stdout",
     "output_type": "stream",
     "text": [
      "Results saved to linear_regression_results.txt\n"
     ]
    }
   ],
   "source": [
    "perform_linear_regression(X, y)\n",
    "print(\"Results saved to linear_regression_results.txt\")"
   ]
  }
 ],
 "metadata": {
  "kernelspec": {
   "display_name": "base",
   "language": "python",
   "name": "python3"
  },
  "language_info": {
   "codemirror_mode": {
    "name": "ipython",
    "version": 3
   },
   "file_extension": ".py",
   "mimetype": "text/x-python",
   "name": "python",
   "nbconvert_exporter": "python",
   "pygments_lexer": "ipython3",
   "version": "3.10.9"
  }
 },
 "nbformat": 4,
 "nbformat_minor": 2
}
