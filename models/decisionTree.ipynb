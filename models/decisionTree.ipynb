{
 "cells": [
  {
   "cell_type": "code",
   "execution_count": 3,
   "metadata": {},
   "outputs": [],
   "source": [
    "#visualize tree\n",
    "def visualize_tree(dt_model, cityname):\n",
    "    import matplotlib.pyplot as plt\n",
    "    from sklearn.tree import plot_tree\n",
    "\n",
    "    plt.figure(figsize=(20, 10))\n",
    "    plot_tree(dt_model, \n",
    "            feature_names=numerical_features, \n",
    "            class_names=['aqi'], \n",
    "            filled=True, \n",
    "            rounded=True, \n",
    "            max_depth=3)\n",
    "    plt.savefig('decision_tree_'+cityname+'.png')\n",
    "    plt.close()"
   ]
  },
  {
   "cell_type": "code",
   "execution_count": 1,
   "metadata": {},
   "outputs": [],
   "source": [
    "import pandas as pd\n",
    "from sklearn.model_selection import train_test_split\n",
    "from sklearn.tree import DecisionTreeRegressor\n",
    "from sklearn.metrics import mean_squared_error, r2_score, mean_absolute_error, explained_variance_score\n",
    "from joblib import dump\n",
    "from math import sqrt\n",
    "\n",
    "def perform_decision_tree_regression(X, y, cityname):\n",
    "    X_train, X_test, y_train, y_test = train_test_split(X, y, test_size=0.2, random_state=42)\n",
    "    dt_model = DecisionTreeRegressor(random_state=42)\n",
    "    dt_model.fit(X_train, y_train)\n",
    "    y_pred = dt_model.predict(X_test)\n",
    "\n",
    "    with open('decision_tree_results_' + cityname + '.txt', 'w') as file:\n",
    "        mae = mean_absolute_error(y_test, y_pred)\n",
    "        mse = mean_squared_error(y_test, y_pred)\n",
    "        rmse = sqrt(mse)\n",
    "        r2 = r2_score(y_test, y_pred)\n",
    "        explained_variance = explained_variance_score(y_test, y_pred)\n",
    "\n",
    "        file.write(f\"Mean Absolute Error: {mae:.2f}\\n\")\n",
    "        file.write(f\"Mean Squared Error: {mse:.2f}\\n\")\n",
    "        file.write(f\"Root Mean Squared Error: {rmse:.4f}\\n\")\n",
    "        file.write(f\"R^2 Score: {r2:.4f}\\n\")\n",
    "        file.write(f\"Explained Variance Score: {explained_variance:.4f}\\n\")\n",
    "\n",
    "    return dt_model\n",
    "\n",
    "def removeMissingRows(df, column_names):\n",
    "    df = df.dropna(subset=column_names)\n",
    "    return df\n"
   ]
  },
  {
   "cell_type": "code",
   "execution_count": 4,
   "metadata": {},
   "outputs": [
    {
     "name": "stderr",
     "output_type": "stream",
     "text": [
      "/var/folders/6m/1wyk0cv146d91z1nsb6cxh6w0000gn/T/ipykernel_5526/2006034242.py:3: DtypeWarning: Columns (39) have mixed types. Specify dtype option on import or set low_memory=False.\n",
      "  df = pd.read_csv('../csv/final_merged_data/merged_data_' + city + '.csv')\n"
     ]
    },
    {
     "name": "stdout",
     "output_type": "stream",
     "text": [
      "Decision tree model and results saved for Bakersfield\n"
     ]
    },
    {
     "name": "stderr",
     "output_type": "stream",
     "text": [
      "/var/folders/6m/1wyk0cv146d91z1nsb6cxh6w0000gn/T/ipykernel_5526/2006034242.py:3: DtypeWarning: Columns (39) have mixed types. Specify dtype option on import or set low_memory=False.\n",
      "  df = pd.read_csv('../csv/final_merged_data/merged_data_' + city + '.csv')\n"
     ]
    },
    {
     "name": "stdout",
     "output_type": "stream",
     "text": [
      "Decision tree model and results saved for Los_Angeles\n"
     ]
    },
    {
     "name": "stderr",
     "output_type": "stream",
     "text": [
      "/var/folders/6m/1wyk0cv146d91z1nsb6cxh6w0000gn/T/ipykernel_5526/2006034242.py:3: DtypeWarning: Columns (39) have mixed types. Specify dtype option on import or set low_memory=False.\n",
      "  df = pd.read_csv('../csv/final_merged_data/merged_data_' + city + '.csv')\n"
     ]
    },
    {
     "name": "stdout",
     "output_type": "stream",
     "text": [
      "Decision tree model and results saved for New_York\n"
     ]
    },
    {
     "name": "stderr",
     "output_type": "stream",
     "text": [
      "/var/folders/6m/1wyk0cv146d91z1nsb6cxh6w0000gn/T/ipykernel_5526/2006034242.py:3: DtypeWarning: Columns (39) have mixed types. Specify dtype option on import or set low_memory=False.\n",
      "  df = pd.read_csv('../csv/final_merged_data/merged_data_' + city + '.csv')\n"
     ]
    },
    {
     "name": "stdout",
     "output_type": "stream",
     "text": [
      "Decision tree model and results saved for Phoenix\n"
     ]
    },
    {
     "name": "stderr",
     "output_type": "stream",
     "text": [
      "/var/folders/6m/1wyk0cv146d91z1nsb6cxh6w0000gn/T/ipykernel_5526/2006034242.py:3: DtypeWarning: Columns (39) have mixed types. Specify dtype option on import or set low_memory=False.\n",
      "  df = pd.read_csv('../csv/final_merged_data/merged_data_' + city + '.csv')\n"
     ]
    },
    {
     "name": "stdout",
     "output_type": "stream",
     "text": [
      "Decision tree model and results saved for Reno\n",
      "Decision tree model and results saved for Visalia\n"
     ]
    },
    {
     "name": "stderr",
     "output_type": "stream",
     "text": [
      "/var/folders/6m/1wyk0cv146d91z1nsb6cxh6w0000gn/T/ipykernel_5526/2006034242.py:3: DtypeWarning: Columns (39) have mixed types. Specify dtype option on import or set low_memory=False.\n",
      "  df = pd.read_csv('../csv/final_merged_data/merged_data_' + city + '.csv')\n"
     ]
    },
    {
     "name": "stdout",
     "output_type": "stream",
     "text": [
      "Decision tree model and results saved for Denver\n"
     ]
    },
    {
     "name": "stderr",
     "output_type": "stream",
     "text": [
      "/var/folders/6m/1wyk0cv146d91z1nsb6cxh6w0000gn/T/ipykernel_5526/2006034242.py:3: DtypeWarning: Columns (34) have mixed types. Specify dtype option on import or set low_memory=False.\n",
      "  df = pd.read_csv('../csv/final_merged_data/merged_data_' + city + '.csv')\n"
     ]
    },
    {
     "name": "stdout",
     "output_type": "stream",
     "text": [
      "Decision tree model and results saved for Boston\n"
     ]
    }
   ],
   "source": [
    "cities = ['Bakersfield', 'Los_Angeles', 'New_York', 'Phoenix', 'Reno', 'Visalia', 'Denver', 'Boston']\n",
    "for city in cities:\n",
    "    df = pd.read_csv('../csv/final_merged_data/merged_data_' + city + '.csv')\n",
    "    numerical_features = ['temp', 'visibility', 'dew_point', 'feels_like', 'pressure', 'humidity', 'wind_speed', 'wind_deg', 'wind_gust', 'rain_1h', 'snow_1h', 'clouds_all', 'weather_id', 'year', 'month', 'day']\n",
    "    df = removeMissingRows(df, numerical_features + ['aqi'])  # Include 'aqi' in the check for NaNs\n",
    "    X = df[numerical_features]\n",
    "    y = df['aqi']\n",
    "    dt_model = perform_decision_tree_regression(X, y, city)\n",
    "    visualize_tree(dt_model, city)\n",
    "    dump(dt_model, 'decision_tree_model_' + city + '.joblib')\n",
    "    print(f'Decision tree model and results saved for {city}')"
   ]
  }
 ],
 "metadata": {
  "kernelspec": {
   "display_name": "base",
   "language": "python",
   "name": "python3"
  },
  "language_info": {
   "codemirror_mode": {
    "name": "ipython",
    "version": 3
   },
   "file_extension": ".py",
   "mimetype": "text/x-python",
   "name": "python",
   "nbconvert_exporter": "python",
   "pygments_lexer": "ipython3",
   "version": "3.10.9"
  }
 },
 "nbformat": 4,
 "nbformat_minor": 2
}
