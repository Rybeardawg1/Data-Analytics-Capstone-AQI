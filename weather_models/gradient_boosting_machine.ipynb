{
 "cells": [
  {
   "cell_type": "code",
   "execution_count": 4,
   "metadata": {},
   "outputs": [
    {
     "name": "stderr",
     "output_type": "stream",
     "text": [
      "/var/folders/6m/1wyk0cv146d91z1nsb6cxh6w0000gn/T/ipykernel_57122/3900856598.py:22: DtypeWarning: Columns (39) have mixed types. Specify dtype option on import or set low_memory=False.\n",
      "  df = pd.read_csv(f'../csv/final_merged_data/merged_data_{city}.csv')\n"
     ]
    },
    {
     "name": "stdout",
     "output_type": "stream",
     "text": [
      "City: Bakersfield\n",
      "Mean Squared Error (MSE): 100.87158575412798\n",
      "Root Mean Squared Error (RMSE): 10.043484741568934\n",
      "R^2 Score: 0.3290117346567467\n"
     ]
    },
    {
     "name": "stderr",
     "output_type": "stream",
     "text": [
      "/var/folders/6m/1wyk0cv146d91z1nsb6cxh6w0000gn/T/ipykernel_57122/3900856598.py:22: DtypeWarning: Columns (39) have mixed types. Specify dtype option on import or set low_memory=False.\n",
      "  df = pd.read_csv(f'../csv/final_merged_data/merged_data_{city}.csv')\n"
     ]
    },
    {
     "name": "stdout",
     "output_type": "stream",
     "text": [
      "City: Los_Angeles\n",
      "Mean Squared Error (MSE): 18.333852894066194\n",
      "Root Mean Squared Error (RMSE): 4.281804864080823\n",
      "R^2 Score: 0.266643013141344\n"
     ]
    },
    {
     "name": "stderr",
     "output_type": "stream",
     "text": [
      "/var/folders/6m/1wyk0cv146d91z1nsb6cxh6w0000gn/T/ipykernel_57122/3900856598.py:22: DtypeWarning: Columns (39) have mixed types. Specify dtype option on import or set low_memory=False.\n",
      "  df = pd.read_csv(f'../csv/final_merged_data/merged_data_{city}.csv')\n"
     ]
    },
    {
     "name": "stdout",
     "output_type": "stream",
     "text": [
      "City: New_York\n",
      "Mean Squared Error (MSE): 205.29664312711571\n",
      "Root Mean Squared Error (RMSE): 14.32817654578264\n",
      "R^2 Score: 0.5051640880233066\n"
     ]
    },
    {
     "name": "stderr",
     "output_type": "stream",
     "text": [
      "/var/folders/6m/1wyk0cv146d91z1nsb6cxh6w0000gn/T/ipykernel_57122/3900856598.py:22: DtypeWarning: Columns (39) have mixed types. Specify dtype option on import or set low_memory=False.\n",
      "  df = pd.read_csv(f'../csv/final_merged_data/merged_data_{city}.csv')\n"
     ]
    },
    {
     "name": "stdout",
     "output_type": "stream",
     "text": [
      "City: Phoenix\n",
      "Mean Squared Error (MSE): 6.999820482395419\n",
      "Root Mean Squared Error (RMSE): 2.6457173852086733\n",
      "R^2 Score: 0.3622906895730027\n"
     ]
    },
    {
     "name": "stderr",
     "output_type": "stream",
     "text": [
      "/var/folders/6m/1wyk0cv146d91z1nsb6cxh6w0000gn/T/ipykernel_57122/3900856598.py:22: DtypeWarning: Columns (39) have mixed types. Specify dtype option on import or set low_memory=False.\n",
      "  df = pd.read_csv(f'../csv/final_merged_data/merged_data_{city}.csv')\n"
     ]
    },
    {
     "name": "stdout",
     "output_type": "stream",
     "text": [
      "City: Reno\n",
      "Mean Squared Error (MSE): 0.4686344727831356\n",
      "Root Mean Squared Error (RMSE): 0.6845688225322094\n",
      "R^2 Score: 0.27675083487495244\n",
      "City: Visalia\n",
      "Mean Squared Error (MSE): 17.851036827906274\n",
      "Root Mean Squared Error (RMSE): 4.2250487367492315\n",
      "R^2 Score: 0.3177792195106931\n"
     ]
    },
    {
     "name": "stderr",
     "output_type": "stream",
     "text": [
      "/var/folders/6m/1wyk0cv146d91z1nsb6cxh6w0000gn/T/ipykernel_57122/3900856598.py:22: DtypeWarning: Columns (39) have mixed types. Specify dtype option on import or set low_memory=False.\n",
      "  df = pd.read_csv(f'../csv/final_merged_data/merged_data_{city}.csv')\n"
     ]
    },
    {
     "name": "stdout",
     "output_type": "stream",
     "text": [
      "City: Denver\n",
      "Mean Squared Error (MSE): 99.63022756824611\n",
      "Root Mean Squared Error (RMSE): 9.981494255282929\n",
      "R^2 Score: 0.3137043693693553\n"
     ]
    },
    {
     "name": "stderr",
     "output_type": "stream",
     "text": [
      "/var/folders/6m/1wyk0cv146d91z1nsb6cxh6w0000gn/T/ipykernel_57122/3900856598.py:22: DtypeWarning: Columns (34) have mixed types. Specify dtype option on import or set low_memory=False.\n",
      "  df = pd.read_csv(f'../csv/final_merged_data/merged_data_{city}.csv')\n"
     ]
    },
    {
     "name": "stdout",
     "output_type": "stream",
     "text": [
      "City: Boston\n",
      "Mean Squared Error (MSE): 154.27060541388516\n",
      "Root Mean Squared Error (RMSE): 12.420571863400056\n",
      "R^2 Score: 0.36668780249688526\n"
     ]
    }
   ],
   "source": [
    "import pandas as pd\n",
    "from sklearn.model_selection import train_test_split\n",
    "from sklearn.ensemble import GradientBoostingRegressor\n",
    "from sklearn.preprocessing import StandardScaler\n",
    "from sklearn.impute import SimpleImputer\n",
    "from sklearn.metrics import mean_squared_error, r2_score\n",
    "from sklearn.pipeline import Pipeline\n",
    "from math import sqrt\n",
    "from joblib import dump\n",
    "import numpy as np\n",
    "\n",
    "def removeMissingRows(df, column_names):\n",
    "    df = df.dropna(subset=column_names)\n",
    "    return df\n",
    "\n",
    "cities = ['Bakersfield', 'Los_Angeles', 'New_York', 'Phoenix', 'Reno', 'Visalia', 'Denver', 'Boston']\n",
    "for city in cities:\n",
    "    df = pd.read_csv(f'../csv/final_merged_data/merged_data_{city}.csv')\n",
    "    df = removeMissingRows(df, 'aqi')\n",
    "    numerical_features = ['temp', 'visibility', 'dew_point', 'feels_like', 'pressure', 'humidity', 'wind_speed', 'wind_deg', 'wind_gust', 'rain_1h', 'snow_1h', 'clouds_all', 'weather_id', 'year', 'month', 'day']\n",
    "    X = df[numerical_features]\n",
    "    y = df['aqi']\n",
    "    X_train, X_test, y_train, y_test = train_test_split(X, y, test_size=0.2, random_state=42)\n",
    "\n",
    "    gbm_pipeline = Pipeline([\n",
    "        ('imputer', SimpleImputer(missing_values=np.nan, strategy='mean')),\n",
    "        ('scaler', StandardScaler()),\n",
    "        ('regressor', GradientBoostingRegressor(n_estimators=100, learning_rate=0.1, max_depth=3, random_state=42))\n",
    "    ])\n",
    "\n",
    "    gbm_pipeline.fit(X_train, y_train)\n",
    "    y_pred = gbm_pipeline.predict(X_test)\n",
    "\n",
    "    mse = mean_squared_error(y_test, y_pred)\n",
    "    rmse = sqrt(mse)\n",
    "    r2 = r2_score(y_test, y_pred)\n",
    "    print(f\"City: {city}\")\n",
    "    print(f\"Mean Squared Error (MSE): {mse}\")\n",
    "    print(f\"Root Mean Squared Error (RMSE): {rmse}\")\n",
    "    print(f\"R^2 Score: {r2}\")\n",
    "\n",
    "    dump(gbm_pipeline, f'gbm_model_{city}.joblib')\n",
    "    with open(f'gbm_results_{city}.txt', 'w') as file:\n",
    "        file.write(f\"Mean Squared Error (MSE): {mse}\\n\")\n",
    "        file.write(f\"Root Mean Squared Error (RMSE): {rmse}\\n\")\n",
    "        file.write(f\"R^2 Score: {r2}\\n\")\n",
    "\n"
   ]
  }
 ],
 "metadata": {
  "kernelspec": {
   "display_name": "base",
   "language": "python",
   "name": "python3"
  },
  "language_info": {
   "codemirror_mode": {
    "name": "ipython",
    "version": 3
   },
   "file_extension": ".py",
   "mimetype": "text/x-python",
   "name": "python",
   "nbconvert_exporter": "python",
   "pygments_lexer": "ipython3",
   "version": "3.10.9"
  }
 },
 "nbformat": 4,
 "nbformat_minor": 2
}
