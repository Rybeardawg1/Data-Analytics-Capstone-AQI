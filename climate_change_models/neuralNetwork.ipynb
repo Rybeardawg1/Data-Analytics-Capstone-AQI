{
 "cells": [
  {
   "cell_type": "code",
   "execution_count": 1,
   "metadata": {},
   "outputs": [
    {
     "name": "stdout",
     "output_type": "stream",
     "text": [
      "WARNING:tensorflow:From c:\\Users\\User\\anaconda3\\Lib\\site-packages\\keras\\src\\losses.py:2976: The name tf.losses.sparse_softmax_cross_entropy is deprecated. Please use tf.compat.v1.losses.sparse_softmax_cross_entropy instead.\n",
      "\n"
     ]
    }
   ],
   "source": [
    "import numpy as np\n",
    "import pandas as pd\n",
    "from sklearn.preprocessing import MinMaxScaler\n",
    "from tensorflow.keras.models import Sequential\n",
    "from tensorflow.keras.layers import LSTM, Dense\n",
    "from tensorflow.keras.optimizers import Adam\n",
    "from sklearn.model_selection import train_test_split\n",
    "from sklearn.metrics import mean_squared_error, r2_score\n",
    "import os"
   ]
  },
  {
   "cell_type": "code",
   "execution_count": 5,
   "metadata": {},
   "outputs": [
    {
     "name": "stdout",
     "output_type": "stream",
     "text": [
      "WARNING:tensorflow:From c:\\Users\\User\\anaconda3\\Lib\\site-packages\\keras\\src\\backend.py:873: The name tf.get_default_graph is deprecated. Please use tf.compat.v1.get_default_graph instead.\n",
      "\n",
      "Epoch 1/10\n",
      "WARNING:tensorflow:From c:\\Users\\User\\anaconda3\\Lib\\site-packages\\keras\\src\\utils\\tf_utils.py:492: The name tf.ragged.RaggedTensorValue is deprecated. Please use tf.compat.v1.ragged.RaggedTensorValue instead.\n",
      "\n",
      "457509/457509 [==============================] - 569s 1ms/step - loss: 663.3809 - val_loss: 632.5153\n",
      "Epoch 2/10\n",
      "457509/457509 [==============================] - 557s 1ms/step - loss: 622.3768 - val_loss: 615.9874\n",
      "Epoch 3/10\n",
      "457509/457509 [==============================] - 573s 1ms/step - loss: 613.0231 - val_loss: 609.8666\n",
      "Epoch 4/10\n",
      "457509/457509 [==============================] - 566s 1ms/step - loss: 608.5086 - val_loss: 605.3101\n",
      "Epoch 5/10\n",
      "457509/457509 [==============================] - 546s 1ms/step - loss: 605.5640 - val_loss: 602.8852\n",
      "Epoch 6/10\n",
      "457509/457509 [==============================] - 540s 1ms/step - loss: 603.2230 - val_loss: 601.6227\n",
      "Epoch 7/10\n",
      "457509/457509 [==============================] - 539s 1ms/step - loss: 601.0764 - val_loss: 597.7661\n",
      "Epoch 8/10\n",
      "457509/457509 [==============================] - 539s 1ms/step - loss: 599.3242 - val_loss: 596.7220\n",
      "Epoch 9/10\n",
      "457509/457509 [==============================] - 540s 1ms/step - loss: 597.6277 - val_loss: 599.2643\n",
      "Epoch 10/10\n",
      "457509/457509 [==============================] - 539s 1ms/step - loss: 596.3242 - val_loss: 598.7375\n",
      "114378/114378 [==============================] - 65s 561us/step\n",
      "Mean Squared Error (MSE): 598.74\n",
      "Root Mean Squared Error (RMSE): 24.47\n",
      "R-squared (R2) Score: 0.24\n"
     ]
    }
   ],
   "source": [
    "csv_file = os.path.join(\"..\", \"data\", \"climate_change_AQI.csv\")\n",
    "target_var = \"Ozone\"\n",
    "features = [\n",
    "    \"Longitude\",\n",
    "    \"Latitude\",\n",
    "    \"Sine\",\n",
    "    \"Cosine\",\n",
    "    \"Land_Surface_Temp(C)\",\n",
    "    \"Sea_Ice_Extent(10^6 sq km)\",\n",
    "    \"Sea_Surface_Temp(C)\",\n",
    "]\n",
    "df = pd.read_csv(csv_file)\n",
    "\n",
    "X = df[features]\n",
    "y = df[\"Ozone\"]\n",
    "\n",
    "X_train, X_test, y_train, y_test = train_test_split(X, y, test_size=0.2, random_state=42)\n",
    "\n",
    "scaler = MinMaxScaler()\n",
    "X_train_scaled = scaler.fit_transform(X_train)\n",
    "X_test_scaled = scaler.transform(X_test)\n",
    "\n",
    "X_train_reshaped = X_train_scaled.reshape(X_train_scaled.shape[0], 1, X_train_scaled.shape[1])\n",
    "X_test_reshaped = X_test_scaled.reshape(X_test_scaled.shape[0], 1, X_test_scaled.shape[1])\n",
    "\n",
    "# Define the LSTM model\n",
    "model = Sequential()\n",
    "model.add(LSTM(units=64, input_shape=(1, X_train_scaled.shape[1]), return_sequences=True))\n",
    "model.add(LSTM(units=64, return_sequences=False))\n",
    "model.add(Dense(units=1))\n",
    "\n",
    "model.compile(optimizer=Adam(learning_rate=0.001), loss='mse')\n",
    "\n",
    "history = model.fit(X_train_reshaped, y_train, epochs=10, batch_size=32, validation_data=(X_test_reshaped, y_test))\n",
    "\n",
    "y_pred = model.predict(X_test_reshaped)\n",
    "\n",
    "mse = mean_squared_error(y_test, y_pred)\n",
    "rmse = np.sqrt(mse)\n",
    "r2 = r2_score(y_test, y_pred)\n",
    "\n",
    "# Print evaluation metrics\n",
    "print(\"Mean Squared Error (MSE): {:.2f}\".format(mse))\n",
    "print(\"Root Mean Squared Error (RMSE): {:.2f}\".format(rmse))\n",
    "print(\"R-squared (R2) Score: {:.2f}\".format(r2))\n"
   ]
  }
 ],
 "metadata": {
  "kernelspec": {
   "display_name": "base",
   "language": "python",
   "name": "python3"
  },
  "language_info": {
   "codemirror_mode": {
    "name": "ipython",
    "version": 3
   },
   "file_extension": ".py",
   "mimetype": "text/x-python",
   "name": "python",
   "nbconvert_exporter": "python",
   "pygments_lexer": "ipython3",
   "version": "3.9.7"
  }
 },
 "nbformat": 4,
 "nbformat_minor": 2
}
