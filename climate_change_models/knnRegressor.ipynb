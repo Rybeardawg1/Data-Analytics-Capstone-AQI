{
 "cells": [
  {
   "cell_type": "code",
   "execution_count": 1,
   "metadata": {},
   "outputs": [
    {
     "name": "stdout",
     "output_type": "stream",
     "text": [
      "KNN model and results saved for 3\n",
      "KNN model and results saved for 7\n",
      "KNN model and results saved for 11\n",
      "KNN model and results saved for 15\n",
      "KNN model and results saved for 19\n",
      "KNN model and results saved for 23\n",
      "KNN model and results saved for 27\n"
     ]
    }
   ],
   "source": [
    "import pandas as pd\n",
    "from sklearn.model_selection import train_test_split\n",
    "from sklearn.neighbors import KNeighborsRegressor\n",
    "from sklearn.metrics import (\n",
    "    mean_squared_error,\n",
    "    r2_score,\n",
    "    mean_absolute_error,\n",
    "    explained_variance_score,\n",
    ")\n",
    "from joblib import dump\n",
    "from math import sqrt\n",
    "import os\n",
    "\n",
    "def perform_knn_regression(X, y, n_neighbors):\n",
    "    X_train, X_test, y_train, y_test = train_test_split(\n",
    "        X, y, test_size=0.2, random_state=42\n",
    "    )\n",
    "    knn_model = KNeighborsRegressor(n_neighbors=n_neighbors, metric=\"euclidean\")\n",
    "    knn_model.fit(X_train, y_train)\n",
    "    y_pred = knn_model.predict(X_test)\n",
    "\n",
    "    with open(\"knn_results.txt\", \"a\") as file:\n",
    "        mae = mean_absolute_error(y_test, y_pred)\n",
    "        mse = mean_squared_error(y_test, y_pred)\n",
    "        rmse = sqrt(mse)\n",
    "        r2 = r2_score(y_test, y_pred)\n",
    "        explained_variance = explained_variance_score(y_test, y_pred)\n",
    "        file.write(f\"\\nn: {n_neighbors}\\n\")\n",
    "        file.write(f\"Mean Absolute Error: {mae:.4f}\\n\")\n",
    "        file.write(f\"Mean Squared Error: {mse:.4f}\\n\")\n",
    "        file.write(f\"Root Mean Squared Error: {rmse:.4f}\\n\")\n",
    "        file.write(f\"R^2 Score: {r2:.4f}\\n\")\n",
    "        file.write(f\"Explained Variance Score: {explained_variance:.4f}\\n\")\n",
    "\n",
    "    return knn_model\n",
    "\n",
    "\n",
    "csv_file = os.path.join(\"..\", \"data\", \"climate_change_AQI.csv\")\n",
    "target_var = \"Ozone\"\n",
    "features = [\n",
    "    \"Longitude\",\n",
    "    \"Latitude\",\n",
    "    \"Sine\",\n",
    "    \"Cosine\",\n",
    "    \"Land_Surface_Temp(C)\",\n",
    "    \"Sea_Ice_Extent(10^6 sq km)\",\n",
    "    \"Sea_Surface_Temp(C)\",\n",
    "]\n",
    "df = pd.read_csv(csv_file)\n",
    "df = df.sample(frac=0.01, random_state=42)\n",
    "\n",
    "X = df[features]\n",
    "y = df[\"Ozone\"]\n",
    "\n",
    "for i in range(3, 29, 4):\n",
    "    perform_knn_regression(X, y, i)\n",
    "    print(f\"KNN model and results saved for {i}\")"
   ]
  }
 ],
 "metadata": {
  "kernelspec": {
   "display_name": "base",
   "language": "python",
   "name": "python3"
  },
  "language_info": {
   "codemirror_mode": {
    "name": "ipython",
    "version": 3
   },
   "file_extension": ".py",
   "mimetype": "text/x-python",
   "name": "python",
   "nbconvert_exporter": "python",
   "pygments_lexer": "ipython3",
   "version": "3.9.7"
  }
 },
 "nbformat": 4,
 "nbformat_minor": 2
}
