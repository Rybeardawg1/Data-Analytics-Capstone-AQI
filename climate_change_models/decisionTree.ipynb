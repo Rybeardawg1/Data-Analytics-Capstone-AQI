{
 "cells": [
  {
   "cell_type": "code",
   "execution_count": 1,
   "metadata": {},
   "outputs": [],
   "source": [
    "import pandas as pd\n",
    "from sklearn.model_selection import train_test_split\n",
    "from sklearn.tree import DecisionTreeRegressor\n",
    "from sklearn.metrics import (\n",
    "    mean_squared_error,\n",
    "    r2_score,\n",
    "    mean_absolute_error,\n",
    "    explained_variance_score,\n",
    ")\n",
    "from joblib import dump\n",
    "from math import sqrt\n",
    "import matplotlib.pyplot as plt\n",
    "from sklearn.tree import plot_tree\n",
    "import os"
   ]
  },
  {
   "cell_type": "code",
   "execution_count": 6,
   "metadata": {},
   "outputs": [],
   "source": [
    "def visualize_tree(dt_model, features):\n",
    "    plt.figure(figsize=(20, 10))\n",
    "    plot_tree(\n",
    "        dt_model,\n",
    "        feature_names=features,\n",
    "        class_names=[\"aqi\"],\n",
    "        filled=True,\n",
    "        rounded=True,\n",
    "        max_depth=3,\n",
    "    )\n",
    "\n",
    "    plt.savefig(\"decision_tree.png\")\n",
    "    plt.show()\n",
    "    plt.close()"
   ]
  },
  {
   "cell_type": "code",
   "execution_count": 3,
   "metadata": {},
   "outputs": [],
   "source": [
    "def perform_decision_tree_regression(X, y):\n",
    "    X_train, X_test, y_train, y_test = train_test_split(\n",
    "        X, y, test_size=0.2, random_state=42\n",
    "    )\n",
    "    dt_model = DecisionTreeRegressor(random_state=42)\n",
    "    dt_model.fit(X_train, y_train)\n",
    "    y_pred = dt_model.predict(X_test)\n",
    "\n",
    "    with open(\"decision_tree_results.txt\", \"w\") as file:\n",
    "        mae = mean_absolute_error(y_test, y_pred)\n",
    "        mse = mean_squared_error(y_test, y_pred)\n",
    "        rmse = sqrt(mse)\n",
    "        r2 = r2_score(y_test, y_pred)\n",
    "        explained_variance = explained_variance_score(y_test, y_pred)\n",
    "\n",
    "        file.write(f\"Mean Absolute Error: {mae:.2f}\\n\")\n",
    "        file.write(f\"Mean Squared Error: {mse:.2f}\\n\")\n",
    "        file.write(f\"Root Mean Squared Error: {rmse:.4f}\\n\")\n",
    "        file.write(f\"R^2 Score: {r2:.4f}\\n\")\n",
    "        file.write(f\"Explained Variance Score: {explained_variance:.4f}\\n\")\n",
    "\n",
    "    return dt_model\n"
   ]
  },
  {
   "cell_type": "code",
   "execution_count": 4,
   "metadata": {},
   "outputs": [
    {
     "name": "stdout",
     "output_type": "stream",
     "text": [
      "Decision tree model and results saved\n"
     ]
    }
   ],
   "source": [
    "csv_file = os.path.join(\"..\", \"data\", \"climate_change_AQI.csv\")\n",
    "target_var = \"Ozone\"\n",
    "features = [\n",
    "    \"Longitude\",\n",
    "    \"Latitude\",\n",
    "    \"Sine\",\n",
    "    \"Cosine\",\n",
    "    \"Land_Surface_Temp(C)\",\n",
    "    \"Sea_Ice_Extent(10^6 sq km)\",\n",
    "    \"Sea_Surface_Temp(C)\",\n",
    "]\n",
    "df = pd.read_csv(csv_file)\n",
    "\n",
    "X = df[features]\n",
    "y = df[\"Ozone\"]\n",
    "\n",
    "dt_model = perform_decision_tree_regression(X, y)\n",
    "\n",
    "visualize_tree(dt_model, features)\n",
    "\n",
    "dump(dt_model, \"decision_tree_model.joblib\")\n",
    "\n",
    "print(f\"Decision tree model and results saved\")"
   ]
  }
 ],
 "metadata": {
  "kernelspec": {
   "display_name": "base",
   "language": "python",
   "name": "python3"
  },
  "language_info": {
   "codemirror_mode": {
    "name": "ipython",
    "version": 3
   },
   "file_extension": ".py",
   "mimetype": "text/x-python",
   "name": "python",
   "nbconvert_exporter": "python",
   "pygments_lexer": "ipython3",
   "version": "3.9.7"
  }
 },
 "nbformat": 4,
 "nbformat_minor": 2
}
