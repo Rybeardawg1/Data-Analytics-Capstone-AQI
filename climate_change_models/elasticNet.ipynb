{
 "cells": [
  {
   "cell_type": "code",
   "execution_count": 1,
   "metadata": {},
   "outputs": [
    {
     "name": "stdout",
     "output_type": "stream",
     "text": [
      "Mean Squared Error (MSE): 729.3926374039848\n",
      "Root Mean Squared Error (RMSE): 27.00727008425666\n",
      "R^2 Score: 0.0728912159354499\n"
     ]
    }
   ],
   "source": [
    "import pandas as pd\n",
    "from sklearn.model_selection import train_test_split\n",
    "from sklearn.linear_model import ElasticNet\n",
    "from sklearn.preprocessing import StandardScaler\n",
    "from sklearn.impute import SimpleImputer\n",
    "from sklearn.metrics import mean_squared_error, r2_score\n",
    "from sklearn.pipeline import Pipeline\n",
    "from math import sqrt\n",
    "import numpy as np\n",
    "import os\n",
    "\n",
    "csv_file = os.path.join(\"..\", \"data\", \"climate_change_AQI.csv\")\n",
    "target_var = \"Ozone\"\n",
    "features = [\n",
    "    \"Longitude\",\n",
    "    \"Latitude\",\n",
    "    \"Sine\",\n",
    "    \"Cosine\",\n",
    "    \"Land_Surface_Temp(C)\",\n",
    "    \"Sea_Ice_Extent(10^6 sq km)\",\n",
    "    \"Sea_Surface_Temp(C)\",\n",
    "]\n",
    "\n",
    "df = pd.read_csv(csv_file)\n",
    "X = df[features]\n",
    "y = df[\"Ozone\"]\n",
    "\n",
    "X_train, X_test, y_train, y_test = train_test_split(\n",
    "    X, y, test_size=0.2, random_state=42\n",
    ")\n",
    "\n",
    "\n",
    "elastic_net_pipeline = Pipeline(\n",
    "    [\n",
    "        (\"imputer\", SimpleImputer(missing_values=np.nan, strategy=\"mean\")),\n",
    "        (\"scaler\", StandardScaler()),\n",
    "        (\"regressor\", ElasticNet(alpha=0.1, l1_ratio=0.5, random_state=42)),\n",
    "    ]\n",
    ")\n",
    "\n",
    "elastic_net_pipeline.fit(X_train, y_train)\n",
    "y_pred = elastic_net_pipeline.predict(X_test)\n",
    "\n",
    "mse = mean_squared_error(y_test, y_pred)\n",
    "rmse = sqrt(mse)\n",
    "r2 = r2_score(y_test, y_pred)\n",
    "\n",
    "print(f\"Mean Squared Error (MSE): {mse}\")\n",
    "print(f\"Root Mean Squared Error (RMSE): {rmse}\")\n",
    "print(f\"R^2 Score: {r2}\")\n",
    "\n",
    "with open(f\"elastic_net_results.txt\", \"w\") as file:\n",
    "    file.write(f\"Mean Squared Error (MSE): {mse}\\n\")\n",
    "    file.write(f\"Root Mean Squared Error (RMSE): {rmse}\\n\")\n",
    "    file.write(f\"R^2 Score: {r2}\\n\")"
   ]
  }
 ],
 "metadata": {
  "kernelspec": {
   "display_name": "base",
   "language": "python",
   "name": "python3"
  },
  "language_info": {
   "codemirror_mode": {
    "name": "ipython",
    "version": 3
   },
   "file_extension": ".py",
   "mimetype": "text/x-python",
   "name": "python",
   "nbconvert_exporter": "python",
   "pygments_lexer": "ipython3",
   "version": "3.9.7"
  }
 },
 "nbformat": 4,
 "nbformat_minor": 2
}
